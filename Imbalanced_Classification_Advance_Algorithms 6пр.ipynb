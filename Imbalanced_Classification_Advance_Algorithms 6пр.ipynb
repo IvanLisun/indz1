{
  "cells": [
    {
      "cell_type": "markdown",
      "metadata": {
        "id": "view-in-github",
        "colab_type": "text"
      },
      "source": [
        "<a href=\"https://colab.research.google.com/github/IvanLisun/indz1/blob/main/Imbalanced_Classification_Advance_Algorithms%206%D0%BF%D1%80.ipynb\" target=\"_parent\"><img src=\"https://colab.research.google.com/assets/colab-badge.svg\" alt=\"Open In Colab\"/></a>"
      ]
    },
    {
      "metadata": {
        "id": "UtM4uvZNypnt"
      },
      "cell_type": "markdown",
      "source": [
        "<h2><center>Imbalanced Classification</center></h2>\n",
        "<div style=\"font-family:verdana; word-spacing:1.5px;\">\n",
        "Imbalanced classification involves developing predictive models on classification datasets that have a severe class imbalance. The challenge of working with imbalanced datasets is that most machine learning techniques will ignore, and in turn have poor performance on, the minority class, although typically it is performance on the minority class that is most important.\n",
        "</div>    \n",
        "\n",
        "![image.png](attachment:image.png)\n",
        "\n",
        "\n",
        "<p style=\"font-family:verdana; word-spacing:1.5px;font-size:15px\">Notebook Link for Over & Under Sampling techniques for Imbalanced classification :</p>\n",
        "<a href='https://www.kaggle.com/ashrafkhan94/imbalanced-classification-over-under-sampling?scriptVersionId=52762319'>https://www.kaggle.com/ashrafkhan94/imbalanced-classification-over-under-sampling</a>\n",
        "<br><br>\n",
        "<p style=\"font-family:verdana; word-spacing:1.5px;font-size:15px\">Notebook Link for Cost Sensitive Algorithms for Imbalanced classification :</p>\n",
        "<a href='https://www.kaggle.com/ashrafkhan94/imbalanced-classification-cost-sensitive-algrthms?scriptVersionId=52794216'>https://www.kaggle.com/ashrafkhan94/imbalanced-classification-cost-sensitive-algrthms</a>\n"
      ]
    },
    {
      "metadata": {
        "id": "cLOxGKFuypnw"
      },
      "cell_type": "markdown",
      "source": [
        "<h3><center>1. Probability Threshold Moving</center></h3>\n",
        "<div style=\"font-family:verdana; word-spacing:1.5px;\">\n",
        "    Many machine learning algorithms are capable of predicting a probability or scoring of class membership, and this must be interpreted before it can be mapped to a crisp class label. This is achieved by using a threshold, such as 0.5, where all values equal or greater than the threshold are mapped to one class and all other values are mapped to another class.<br><br>\n",
        "For those classification problems that have a severe class imbalance, the default threshold can result in poor performance.<br><br>\n",
        "    In some cases, such as when using ROC Curves and Precision-Recall Curves, the best or optimal threshold for the classifier can be calculated directly. In other cases, it is possible to use a grid search to tune the threshold and locate the optimal value.<br><br>\n",
        "<h4 style=\"font-family:verdana; word-spacing:1.5px;font-size:16px\">1. Converting Probabilities to Class Labels</h4>\n",
        "\n",
        "The decision for converting a predicted probability or scoring into a class label is governed by a parameter referred to as the decision threshold, discrimination threshold, or simply the threshold. The default value for the threshold is 0.5 for normalized predicted probabilities or scores in the range between 0 or 1.<br>\n",
        "<h4 style=\"font-family:verdana; word-spacing:1.5px;font-size:16px\">2. Threshold-Moving for Imbalanced Classification</h4>\n",
        "We have to search a range of threshold values in order to find the best threshold.<br> In some cases, the optimal threshold can be calculated directly. Tuning or shifting the decision threshold in order to accommodate the broader requirements of the classification problem is generally referred to as threshold-moving, threshold-tuning, or simply thresholding.\n",
        "    </div>"
      ]
    },
    {
      "metadata": {
        "id": "R8xpLEc7ypnw"
      },
      "cell_type": "markdown",
      "source": [
        "<div style=\"font-family:verdana; word-spacing:1.5px;\">\n",
        "<h3>1.1 Optimal Threshold : ROC curve</h3>\n",
        "    The false-positive rate is plotted on the x-axis and the true positive rate is plotted on the y-axis and the plot is referred to as the Receiver Operating Characteristic curve, or ROC curve. <br>A diagonal line on the plot from the bottom-left to top-right indicates the curve for a no-skill classifier (predicts the majority class in all cases), and a point in the top left of the plot indicates a model with perfect skill.<br><br>\n",
        "    There are many ways we could locate the threshold with the optimal balance between false positive and true positive rates. Firstly, the true positive rate is called the Sensitivity. One minus the false-positive rate is called the Specificity. The Geometric Mean or G-mean is a metric for imbalanced classification that, if optimized, will seek a balance between the sensitivity and the specificity.\n",
        "    </div>\n",
        "    \n",
        "![image.png](attachment:image.png)"
      ]
    },
    {
      "metadata": {
        "_kg_hide-input": true,
        "trusted": true,
        "id": "fAy7pf8typnx",
        "outputId": "4cfdc8eb-29ff-4542-da70-23c66af9590a",
        "colab": {
          "base_uri": "https://localhost:8080/",
          "height": 49,
          "referenced_widgets": [
            "12165f08eae247a2b9a95ec1c885c6ed",
            "14f64d1fb23545a2ac33e6d920288143",
            "a4a655df1e884c229dca88b90963655e",
            "109209fdd4a848649934c2bf9dbcd2d4",
            "ed133dd3a55f431a87092a347195e859",
            "065edc3a3f3442ba8b10e884538d6679",
            "c90d0aca6a9d4d118293b7eb449cc244",
            "e23933621320404ebf2f5a46885fe376",
            "d7379f9aa77046ccaa6652952ca228b2",
            "a2a19305527d4578b3805d503bcedf54",
            "7e7e29b724ab4f0c92895d79ed6e1489"
          ]
        }
      },
      "cell_type": "code",
      "source": [
        "import warnings\n",
        "warnings.filterwarnings('ignore')\n",
        "\n",
        "import numpy as np\n",
        "import pandas as pd\n",
        "\n",
        "from sklearn.linear_model import LogisticRegression\n",
        "from sklearn.model_selection import train_test_split, GridSearchCV\n",
        "from collections import Counter\n",
        "from sklearn.datasets import make_classification\n",
        "import matplotlib.pyplot as plt\n",
        "\n",
        "from sklearn.model_selection import cross_val_score\n",
        "from sklearn.model_selection import RepeatedStratifiedKFold\n",
        "from sklearn.tree import DecisionTreeClassifier\n",
        "from imblearn.pipeline import Pipeline\n",
        "\n",
        "from sklearn.svm import SVC\n",
        "from sklearn.neighbors import KNeighborsClassifier\n",
        "from sklearn.metrics import roc_auc_score, precision_recall_curve, roc_curve, f1_score\n",
        "from tqdm import tqdm_notebook as tqdm\n",
        "tqdm().pandas()"
      ],
      "execution_count": 1,
      "outputs": [
        {
          "output_type": "display_data",
          "data": {
            "text/plain": [
              "0it [00:00, ?it/s]"
            ],
            "application/vnd.jupyter.widget-view+json": {
              "version_major": 2,
              "version_minor": 0,
              "model_id": "12165f08eae247a2b9a95ec1c885c6ed"
            }
          },
          "metadata": {}
        }
      ]
    },
    {
      "metadata": {
        "trusted": true,
        "id": "s5fc2ydGypny"
      },
      "cell_type": "code",
      "source": [
        "def run_model():\n",
        "    X, y = make_classification(n_samples=10000, n_features=2, n_redundant=0,\n",
        "        n_clusters_per_class=1, weights=[0.99], flip_y=0, random_state=4)\n",
        "\n",
        "    trainX, testX, trainy, testy = train_test_split(X, y, test_size=0.5, random_state=2,\n",
        "        stratify=y)\n",
        "    model = LogisticRegression(solver='lbfgs')\n",
        "    model.fit(trainX, trainy)\n",
        "\n",
        "    yhat = model.predict_proba(testX)\n",
        "\n",
        "    # Positive class values\n",
        "    yhat = yhat[:, 1]\n",
        "\n",
        "    return yhat, testy"
      ],
      "execution_count": 2,
      "outputs": []
    },
    {
      "metadata": {
        "trusted": true,
        "id": "EFiFK0SZypny",
        "outputId": "79a20dcd-815b-445e-b1b7-c6f5c9959c47",
        "colab": {
          "base_uri": "https://localhost:8080/"
        }
      },
      "cell_type": "code",
      "source": [
        "yhat, testy = run_model()\n",
        "\n",
        "fpr, tpr, thresholds = roc_curve(testy, yhat)\n",
        "gmeans = np.sqrt(tpr * (1-fpr))\n",
        "\n",
        "# locate the index of the largest g-mean\n",
        "ix = np.argmax(gmeans)\n",
        "\n",
        "print('Best Threshold=%f, G-mean=%.3f' % (thresholds[ix], gmeans[ix]))"
      ],
      "execution_count": 3,
      "outputs": [
        {
          "output_type": "stream",
          "name": "stdout",
          "text": [
            "Best Threshold=0.015790, G-mean=0.934\n"
          ]
        }
      ]
    },
    {
      "metadata": {
        "_kg_hide-input": true,
        "trusted": true,
        "id": "S8F-KTDtypnz",
        "outputId": "cfcbc9e8-3f9b-4876-a802-a698f8538c38",
        "colab": {
          "base_uri": "https://localhost:8080/",
          "height": 465
        }
      },
      "cell_type": "code",
      "source": [
        "plt.figure(figsize=(10,5))\n",
        "plt.plot([0,1], [0,1], linestyle='--', label='No Skill')\n",
        "\n",
        "plt.plot(fpr, tpr, marker='.', label='Logistic')\n",
        "plt.scatter(fpr[ix], tpr[ix], marker='o', color='black', label='Best')\n",
        "# axis labels\n",
        "plt.xlabel('False Positive Rate')\n",
        "plt.ylabel('True Positive Rate')\n",
        "plt.legend()\n",
        "# show the plot\n",
        "plt.show()"
      ],
      "execution_count": 4,
      "outputs": [
        {
          "output_type": "display_data",
          "data": {
            "text/plain": [
              "<Figure size 1000x500 with 1 Axes>"
            ],
            "image/png": "[encoded data removed]"
          },
          "metadata": {}
        }
      ]
    },
    {
      "metadata": {
        "id": "N_pwyWUXypnz"
      },
      "cell_type": "markdown",
      "source": [
        "<div style=\"font-family:verdana; word-spacing:1.5px;\">\n",
        "<h3>1.2 Optimal Threshold : Precision Recall curve</h3>\n",
        "\n",
        "Unlike the ROC Curve, a precision-recall curve focuses on the performance of a classifier on the positive (minority class) only. Precision is the ratio of the number of true positives divided by the sum of the true positives and false positives. <br><br>It describes how good a model is at predicting the positive class. Recall is calculated as the ratio of the number of true positives divided by the sum of the true positives and the false negatives.</div>"
      ]
    },
    {
      "metadata": {
        "trusted": true,
        "id": "4CCUV-AOypnz",
        "outputId": "10d09712-c1ff-4045-f0d8-af8121780939",
        "colab": {
          "base_uri": "https://localhost:8080/"
        }
      },
      "cell_type": "code",
      "source": [
        "yhat, testy = run_model()\n",
        "\n",
        "precision, recall, thresholds = precision_recall_curve(testy, yhat)\n",
        "\n",
        "#Calculate f-Score\n",
        "fscore = (2 * precision * recall) / (precision + recall)\n",
        "\n",
        "# locate the index of the largest g-mean\n",
        "ix = np.argmax(fscore)\n",
        "\n",
        "print('Best Threshold=%f, G-mean=%.3f' % (thresholds[ix], fscore[ix]))"
      ],
      "execution_count": 5,
      "outputs": [
        {
          "output_type": "stream",
          "name": "stdout",
          "text": [
            "Best Threshold=0.257034, G-mean=0.756\n"
          ]
        }
      ]
    },
    {
      "metadata": {
        "_kg_hide-input": true,
        "trusted": true,
        "id": "GnX9mdhfypn0",
        "outputId": "7bc46057-e2e4-4696-a0a6-bc8f319cbfd1",
        "colab": {
          "base_uri": "https://localhost:8080/",
          "height": 465
        }
      },
      "cell_type": "code",
      "source": [
        "no_skill = len(testy[testy==1]) / len(testy)\n",
        "\n",
        "plt.figure(figsize=(10,5))\n",
        "plt.plot([0,1], [no_skill,no_skill], linestyle='--', label='No Skill')\n",
        "plt.plot(recall, precision, marker='.', label='Logistic')\n",
        "plt.scatter(recall[ix], precision[ix], marker='o', color='black', label='Best')\n",
        "# axis labels\n",
        "plt.xlabel('Recall')\n",
        "plt.ylabel('Precision')\n",
        "plt.legend()\n",
        "# show the plot\n",
        "plt.show()"
      ],
      "execution_count": 6,
      "outputs": [
        {
          "output_type": "display_data",
          "data": {
            "text/plain": [
              "<Figure size 1000x500 with 1 Axes>"
            ],
            "image/png": "[encoded data removed]"
          },
          "metadata": {}
        }
      ]
    },
    {
      "metadata": {
        "id": "B3Zktp6Nypn0"
      },
      "cell_type": "markdown",
      "source": [
        "<div style=\"font-family:verdana; word-spacing:1.5px;\">\n",
        "<h3>1.3 Optimal Threshold Tuning</h3>\n",
        "    Sometimes, we simply have a model and we wish to know the best threshold directly.<br> In this case, we can define a set of thresholds and then evaluate predicted probabilities under each in order to find and select the optimal threshold. </div>"
      ]
    },
    {
      "metadata": {
        "trusted": true,
        "id": "uJyQONzoypn0",
        "outputId": "ecc1d21a-952b-4e9c-b6e2-fdaa9dfc4483",
        "colab": {
          "base_uri": "https://localhost:8080/"
        }
      },
      "cell_type": "code",
      "source": [
        "# apply threshold to positive probabilities to create labels\n",
        "def to_labels(pos_probs, threshold):\n",
        "    return (pos_probs >= threshold).astype('int')\n",
        "\n",
        "yhat, ytest = run_model()\n",
        "\n",
        "thresholds = np.arange(0, 1, 0.001)\n",
        "\n",
        "scores = [f1_score(ytest,to_labels(yhat, t)) for t in thresholds]\n",
        "\n",
        "ix = np.argmax(scores)\n",
        "print('Threshold=%.3f, F-measure=%.5f' % (thresholds[ix], scores[ix]))"
      ],
      "execution_count": 7,
      "outputs": [
        {
          "output_type": "stream",
          "name": "stdout",
          "text": [
            "Threshold=0.252, F-measure=0.75556\n"
          ]
        }
      ]
    },
    {
      "metadata": {
        "id": "PYgToU8bypn0"
      },
      "cell_type": "markdown",
      "source": [
        "<h3><center>2. Probability Calibration</center></h3>\n",
        "<div style=\"font-family:verdana; word-spacing:1.5px;\">\n",
        "Calibrated probabilities means that the probability reflects the likelihood of true events. This might be confusing if you consider that in classification, we have class labels that are correct or not instead of probabilities.<br><br>\n",
        "    If 100 examples are predicted with a probability of 0.8, then 80 percent of the examples will have class 1 and 20 percent will have class 0, if the probabilities are calibrated.<br><br>\n",
        "Probabilities are calibrated by rescaling their values so they better match the distribution observed in the training data.<br>\n",
        "    Probability predictions are made on training data and the distribution of probabilities is compared to the expected probabilities and adjusted to provide a better match.<br><br>\n",
        "<ul>    There are two main techniques for scaling predicted probabilities; they are Platt scaling and isotonic regression.\n",
        "    <li>Platt Scaling. Logistic regression model to transform probabilities.\n",
        "    <li>Isotonic Regression. Weighted least-squares regression model to transform probabilities.\n",
        "    </ul>\n",
        "    The scikit-learn library provides access to both Platt scaling and isotonic regression methods for calibrating probabilities via the CalibratedClassifierCV class. This is a wrapper for a model (like an SVM). The preferred scaling technique is defined via the method argument, which can be ‘sigmoid’ (Platt scaling) or ‘isotonic’ (isotonic regression).\n",
        "    </div>"
      ]
    },
    {
      "metadata": {
        "id": "nZzmjdGaypn1"
      },
      "cell_type": "markdown",
      "source": [
        "<h3>2.1. SVM with Calibrated probablity</h3>"
      ]
    },
    {
      "metadata": {
        "id": "VLYaX3Z9ypn1"
      },
      "cell_type": "markdown",
      "source": [
        "<h4> Before Calibration </h4>"
      ]
    },
    {
      "metadata": {
        "trusted": true,
        "id": "Khlr-GvRypn1",
        "outputId": "4222df51-0ed5-4192-abff-6b1b4730e704",
        "colab": {
          "base_uri": "https://localhost:8080/"
        }
      },
      "cell_type": "code",
      "source": [
        "X, y = make_classification(n_samples=10000, n_features=2, n_redundant=0,\n",
        "    n_clusters_per_class=1, weights=[0.99], flip_y=0, random_state=4)\n",
        "\n",
        "\n",
        "model = SVC(gamma='scale')\n",
        "\n",
        "\n",
        "cv = RepeatedStratifiedKFold(n_splits=10, n_repeats=3, random_state=1)\n",
        "\n",
        "scores = cross_val_score(model, X, y, scoring='roc_auc', cv=cv, n_jobs=-1)\n",
        "print('Mean ROC AUC: %.3f' % np.mean(scores))"
      ],
      "execution_count": 8,
      "outputs": [
        {
          "output_type": "stream",
          "name": "stdout",
          "text": [
            "Mean ROC AUC: 0.808\n"
          ]
        }
      ]
    },
    {
      "metadata": {
        "id": "hM3LHmkvypn1"
      },
      "cell_type": "markdown",
      "source": [
        "<h4>After Calibration</h4>"
      ]
    },
    {
      "metadata": {
        "trusted": true,
        "id": "jSLUvMVgypn1",
        "outputId": "aec4f315-f67b-4ab4-95fa-c7355f5677e0",
        "colab": {
          "base_uri": "https://localhost:8080/"
        }
      },
      "cell_type": "code",
      "source": [
        "from sklearn.calibration import CalibratedClassifierCV\n",
        "\n",
        "model = SVC(gamma='scale')\n",
        "\n",
        "calibrated = CalibratedClassifierCV(model, method='isotonic', cv=3)\n",
        "\n",
        "cv = RepeatedStratifiedKFold(n_splits=10, n_repeats=3, random_state=1)\n",
        "\n",
        "\n",
        "scores = cross_val_score(calibrated, X, y, scoring='roc_auc', cv=cv, n_jobs=-1)\n",
        "print('Mean ROC AUC: %.3f' % np.mean(scores))"
      ],
      "execution_count": 9,
      "outputs": [
        {
          "output_type": "stream",
          "name": "stdout",
          "text": [
            "Mean ROC AUC: 0.867\n"
          ]
        }
      ]
    },
    {
      "metadata": {
        "id": "5WWinxEZypn2"
      },
      "cell_type": "markdown",
      "source": [
        "<h4>Calibration + Class Weights (Heuristic - Inverse of distribution)</h4>"
      ]
    },
    {
      "metadata": {
        "trusted": true,
        "id": "3lVrYXVkypn2",
        "outputId": "7fb1ba29-5b5e-4ccc-ff5c-919dd97c4049",
        "colab": {
          "base_uri": "https://localhost:8080/"
        }
      },
      "cell_type": "code",
      "source": [
        "from sklearn.calibration import CalibratedClassifierCV\n",
        "\n",
        "model = SVC(gamma='scale', class_weight='balanced')\n",
        "\n",
        "calibrated = CalibratedClassifierCV(model, method='isotonic', cv=3)\n",
        "\n",
        "cv = RepeatedStratifiedKFold(n_splits=10, n_repeats=3, random_state=1)\n",
        "\n",
        "\n",
        "scores = cross_val_score(calibrated, X, y, scoring='roc_auc', cv=cv, n_jobs=-1)\n",
        "print('Mean ROC AUC: %.3f' % np.mean(scores))"
      ],
      "execution_count": 10,
      "outputs": [
        {
          "output_type": "stream",
          "name": "stdout",
          "text": [
            "Mean ROC AUC: 0.964\n"
          ]
        }
      ]
    },
    {
      "metadata": {
        "id": "FbP6Fh2oypn2"
      },
      "cell_type": "markdown",
      "source": [
        "<h3>2.2. Grid Search Probability Calibration With KNN"
      ]
    },
    {
      "metadata": {
        "trusted": true,
        "id": "CyYN3l8Iypn2",
        "outputId": "2e42df66-4164-40a5-964d-25218b747c7f",
        "colab": {
          "base_uri": "https://localhost:8080/"
        }
      },
      "cell_type": "code",
      "source": [
        "model = KNeighborsClassifier()\n",
        "\n",
        "calibrated = CalibratedClassifierCV(model)\n",
        "\n",
        "param_grid = dict(cv=[2,3,4], method=['sigmoid','isotonic'])\n",
        "\n",
        "\n",
        "cv = RepeatedStratifiedKFold(n_splits=10, n_repeats=3, random_state=1)\n",
        "\n",
        "grid = GridSearchCV(estimator=calibrated, param_grid=param_grid, n_jobs=-1, cv=cv,\n",
        "scoring='roc_auc')\n",
        "\n",
        "grid_result = grid.fit(X, y)\n",
        "\n",
        "\n",
        "print('Best: %f using %s' % (grid_result.best_score_, grid_result.best_params_)) # report all configurations\n",
        "means = grid_result.cv_results_['mean_test_score']\n",
        "stds = grid_result.cv_results_['std_test_score']\n",
        "params = grid_result.cv_results_['params']\n",
        "for mean, stdev, param in zip(means, stds, params):\n",
        "    print('%f (%f) with: %r' % (mean, stdev, param))"
      ],
      "execution_count": 11,
      "outputs": [
        {
          "output_type": "stream",
          "name": "stdout",
          "text": [
            "Best: 0.895029 using {'cv': 2, 'method': 'sigmoid'}\n",
            "0.895029 (0.066617) with: {'cv': 2, 'method': 'sigmoid'}\n",
            "0.893549 (0.065846) with: {'cv': 2, 'method': 'isotonic'}\n",
            "0.886835 (0.070207) with: {'cv': 3, 'method': 'sigmoid'}\n",
            "0.885104 (0.071671) with: {'cv': 3, 'method': 'isotonic'}\n",
            "0.885167 (0.071732) with: {'cv': 4, 'method': 'sigmoid'}\n",
            "0.877146 (0.077137) with: {'cv': 4, 'method': 'isotonic'}\n"
          ]
        }
      ]
    },
    {
      "metadata": {
        "id": "5bdNLyhjypn2"
      },
      "cell_type": "markdown",
      "source": [
        "<h3><center>3. Ensemble Algorithms</center></h3>\n",
        "<h3>3.1. Bagging with Random Under-Sampling</h3>\n",
        "<div style=\"font-family:verdana; word-spacing:1.5px;\">\n",
        "Oversampling the minority class in the bootstrap is referred to as OverBagging; likewise, undersampling the majority class in the bootstrap is referred to as UnderBagging, and combining both approaches is referred to as OverUnderBagging. <br><br>The imbalanced-learn library provides an implementation of UnderBagging. Specifically, it provides a version of bagging that uses a random undersampling strategy on the majority class within a bootstrap sample in order to balance the two classes. This is provided in the BalancedBaggingClassifier class.</div>"
      ]
    },
    {
      "metadata": {
        "trusted": true,
        "id": "NMFKqG3iypn2",
        "outputId": "71b7b2dc-2194-41c1-ed79-0afb4247300c",
        "colab": {
          "base_uri": "https://localhost:8080/"
        }
      },
      "cell_type": "code",
      "source": [
        "from imblearn.ensemble import BalancedBaggingClassifier\n",
        "\n",
        "model = BalancedBaggingClassifier()\n",
        "\n",
        "cv = RepeatedStratifiedKFold(n_splits=10, n_repeats=3, random_state=1)\n",
        "\n",
        "\n",
        "scores = cross_val_score(model, X, y, scoring='roc_auc', cv=cv, n_jobs=-1)\n",
        "print('Mean ROC AUC: %.3f' % np.mean(scores))"
      ],
      "execution_count": 12,
      "outputs": [
        {
          "output_type": "stream",
          "name": "stdout",
          "text": [
            "Mean ROC AUC: 0.965\n"
          ]
        }
      ]
    },
    {
      "metadata": {
        "id": "mlb-V2hXypn2"
      },
      "cell_type": "markdown",
      "source": [
        "<h3>3.2. Random Forest With Class Weighting</h3>"
      ]
    },
    {
      "metadata": {
        "trusted": true,
        "id": "Kxg31Jevypn2",
        "outputId": "7702e5fc-f9ba-4934-9f92-81318565c494",
        "colab": {
          "base_uri": "https://localhost:8080/"
        }
      },
      "cell_type": "code",
      "source": [
        "from sklearn.ensemble import RandomForestClassifier\n",
        "\n",
        "model = RandomForestClassifier(n_estimators=20, class_weight='balanced')\n",
        "\n",
        "cv = RepeatedStratifiedKFold(n_splits=10, n_repeats=3, random_state=1)\n",
        "\n",
        "\n",
        "scores = cross_val_score(model, X, y, scoring='roc_auc', cv=cv, n_jobs=-1)\n",
        "print('Mean ROC AUC: %.3f' % np.mean(scores))"
      ],
      "execution_count": 13,
      "outputs": [
        {
          "output_type": "stream",
          "name": "stdout",
          "text": [
            "Mean ROC AUC: 0.885\n"
          ]
        }
      ]
    },
    {
      "metadata": {
        "id": "M8UxWNdzypn3"
      },
      "cell_type": "markdown",
      "source": [
        "<h3>3.3. Random Forest With Bootstrap Class Weighting </h3>\n",
        "<div style=\"font-family:verdana; word-spacing:1.5px;\">\n",
        "Given that each decision tree is constructed from a bootstrap sample (e.g. random selection with replacement), the class distribution in the data sample will be different for each tree. As such, it might be interesting to change the class weighting based on the class distribution in each bootstrap sample, instead of the entire training dataset. This can be achieved by setting the class weight argument to the value ‘balanced subsample’.</div>"
      ]
    },
    {
      "metadata": {
        "trusted": true,
        "id": "YK20Rkpmypn3",
        "outputId": "883bf26b-e212-4b90-fc66-75e587cadf35",
        "colab": {
          "base_uri": "https://localhost:8080/"
        }
      },
      "cell_type": "code",
      "source": [
        "model = RandomForestClassifier(n_estimators=20, class_weight='balanced_subsample')\n",
        "\n",
        "cv = RepeatedStratifiedKFold(n_splits=10, n_repeats=3, random_state=1)\n",
        "\n",
        "\n",
        "scores = cross_val_score(model, X, y, scoring='roc_auc', cv=cv, n_jobs=-1)\n",
        "print('Mean ROC AUC: %.3f' % np.mean(scores))"
      ],
      "execution_count": 14,
      "outputs": [
        {
          "output_type": "stream",
          "name": "stdout",
          "text": [
            "Mean ROC AUC: 0.883\n"
          ]
        }
      ]
    },
    {
      "metadata": {
        "id": "GV8y0-kQypn3"
      },
      "cell_type": "markdown",
      "source": [
        "<h3>3.4. Random Forest with Random Under-Sampling</h3>\n"
      ]
    },
    {
      "metadata": {
        "trusted": true,
        "id": "lSYEfs1uypn3",
        "outputId": "173db284-0453-49bc-cd9f-54ceb42031cd",
        "colab": {
          "base_uri": "https://localhost:8080/"
        }
      },
      "cell_type": "code",
      "source": [
        "from imblearn.ensemble import BalancedRandomForestClassifier\n",
        "\n",
        "model = BalancedRandomForestClassifier(n_estimators=20)\n",
        "\n",
        "cv = RepeatedStratifiedKFold(n_splits=10, n_repeats=3, random_state=1)\n",
        "\n",
        "\n",
        "scores = cross_val_score(model, X, y, scoring='roc_auc', cv=cv, n_jobs=-1)\n",
        "print('Mean ROC AUC: %.3f' % np.mean(scores))"
      ],
      "execution_count": 15,
      "outputs": [
        {
          "output_type": "stream",
          "name": "stdout",
          "text": [
            "Mean ROC AUC: 0.965\n"
          ]
        }
      ]
    },
    {
      "metadata": {
        "id": "KDxQxt-Xypn3"
      },
      "cell_type": "markdown",
      "source": [
        "<h3>3.5. Easy Ensemble</h3>\n",
        "\n",
        "<div style=\"font-family:verdana; word-spacing:1.5px;\">\n",
        "The Easy Ensemble involves creating balanced samples of the training dataset by selecting all examples from the minority class and a subset from the majority class. Rather than using pruned decision trees, boosted decision trees are used on each subset, specifically the AdaBoost algorithm.<br><br>\n",
        "    AdaBoost works by first fitting a decision tree on the dataset, then determining the errors made by the tree and weighing the examples in the dataset by those errors so that more attention is paid to the misclassified examples and less to the correctly classified examples. A subsequent tree is then fit on the weighted dataset intended to correct the errors. The process is then repeated for a given number of decision trees.\n",
        "    </div>"
      ]
    },
    {
      "metadata": {
        "trusted": true,
        "id": "2F56nstKypn3",
        "outputId": "534e1f8a-f64b-4626-ebf3-b26af22849f9",
        "colab": {
          "base_uri": "https://localhost:8080/"
        }
      },
      "cell_type": "code",
      "source": [
        "from imblearn.ensemble import EasyEnsembleClassifier\n",
        "\n",
        "model = EasyEnsembleClassifier(n_estimators=20)\n",
        "\n",
        "cv = RepeatedStratifiedKFold(n_splits=10, n_repeats=3, random_state=1)\n",
        "\n",
        "\n",
        "scores = cross_val_score(model, X, y, scoring='roc_auc', cv=cv, n_jobs=-1)\n",
        "print('Mean ROC AUC: %.3f' % np.mean(scores))"
      ],
      "execution_count": 16,
      "outputs": [
        {
          "output_type": "stream",
          "name": "stdout",
          "text": [
            "Mean ROC AUC: 0.964\n"
          ]
        }
      ]
    },
    {
      "metadata": {
        "id": "j0nOW7XMypn4"
      },
      "cell_type": "markdown",
      "source": [
        "<h3><center>4. One-Class Classification</center></h3>\n",
        "\n",
        "<div style=\"font-family:verdana; word-spacing:1.5px;\">\n",
        "Identifying outliers in data is referred to as outlier or anomaly detection and a subfield of machine learning focused on this problem is referred to as one-class classification.<br><br> These are unsupervised learning algorithms that attempt to model normal examples in order to classify new examples as either normal or abnormal (e.g. outliers). One-class classification algorithms can be used for binary classification tasks with a severely skewed class distribution.</div><br><br>\n",
        "\n",
        "![image.png](attachment:image.png)"
      ]
    },
    {
      "metadata": {
        "id": "r1bnaSftypn4"
      },
      "cell_type": "markdown",
      "source": [
        "<h3>4.1. One-Class Support Vector Machines </h3>\n",
        "\n",
        "![image.png](attachment:image.png)\n",
        "\n",
        "<div style=\"font-family:verdana; word-spacing:1.5px;\">\n",
        "hyperparameter nu controls the sensitivity of the support vectors and should be tuned to the approximate ratio of outliers in the data, e.g. 0.01%.<br><br>\n",
        "Once fit, the model can be used to identify outliers in new data. When calling the predict() function on the model, it will output a +1 for normal examples, so-called inliers, and a -1 for outliers.\n",
        "<br><br>\n",
        "    If we want to evaluate the performance of the model as a binary classifier, we must change the labels in the test dataset from 0 and 1 for the majority and minority classes respectively, to\n",
        "+1 and -1.\n",
        "    <br><br><br>\n",
        "    As we are not training minority calss(label=1) for outliers, we will mark them as -1(outlier) in the testy data.<br>\n",
        "    As we are training only majority class , when we prdict the model using testX data(containing both majority and minority classes), the model will assign -1 to minority class(as it was not trained), 1 to mojaority class inlier data and -1 to majority class outlier data.\n",
        "<br><br><br>\n",
        " We can calculate the F-measure using the f1 score() function and specify the label of the minority class as -1 via the pos label argument.\n",
        "</div>\n"
      ]
    },
    {
      "metadata": {
        "_kg_hide-input": true,
        "trusted": true,
        "id": "ilwg4GDDypn4"
      },
      "cell_type": "code",
      "source": [
        "X, y = make_classification(n_samples=10000, n_features=2, n_redundant=0,\n",
        "    n_clusters_per_class=1, weights=[0.999], flip_y=0, random_state=4)\n",
        "# split into train/test sets\n",
        "trainX, testX, trainy, testy = train_test_split(X, y, test_size=0.5, random_state=2,\n",
        "    stratify=y)"
      ],
      "execution_count": 17,
      "outputs": []
    },
    {
      "metadata": {
        "trusted": true,
        "id": "_meibozUypn4",
        "outputId": "ffe09592-b54d-4dd3-b135-9137f62f156d",
        "colab": {
          "base_uri": "https://localhost:8080/"
        }
      },
      "cell_type": "code",
      "source": [
        "from sklearn.svm import OneClassSVM\n",
        "\n",
        "model = OneClassSVM(gamma='scale', nu=0.01)\n",
        "\n",
        "trainX = trainX[trainy ==0]\n",
        "\n",
        "model.fit(trainX)\n",
        "\n",
        "yhat = model.predict(testX)\n",
        "\n",
        "# Marking minority class data as outlier(-1) and majority as inlier(1).\n",
        "\n",
        "testy[testy == 1] = -1\n",
        "testy[testy == 0] = 1\n",
        "\n",
        "score = f1_score(testy, yhat, pos_label=-1)\n",
        "print('F-measure: %.3f' % score)"
      ],
      "execution_count": 18,
      "outputs": [
        {
          "output_type": "stream",
          "name": "stdout",
          "text": [
            "F-measure: 0.123\n"
          ]
        }
      ]
    },
    {
      "metadata": {
        "id": "_ph4QYCZypn4"
      },
      "cell_type": "markdown",
      "source": [
        "<h3>4.2. Isolation Forrest </h3>"
      ]
    },
    {
      "metadata": {
        "trusted": true,
        "id": "MoBM8Uobypn4",
        "outputId": "e593f4c6-7cd2-43b1-e65a-f0e9484fd939",
        "colab": {
          "base_uri": "https://localhost:8080/"
        }
      },
      "cell_type": "code",
      "source": [
        "from sklearn.ensemble import IsolationForest\n",
        "from sklearn.metrics import f1_score\n",
        "import numpy as np\n",
        "\n",
        "min_len = min(len(trainX), len(trainy))\n",
        "trainX = trainX[:min_len]\n",
        "trainy = trainy[:min_len]\n",
        "\n",
        "mask = trainy == 0\n",
        "trainX_clean = trainX[mask]\n",
        "\n",
        "model = IsolationForest(contamination=0.01, random_state=42)\n",
        "model.fit(trainX_clean)\n",
        "\n",
        "yhat = model.predict(testX)\n",
        "\n",
        "testy_transformed = np.copy(testy)\n",
        "testy_transformed[testy == 1] = -1\n",
        "testy_transformed[testy == 0] = 1\n",
        "\n",
        "score = f1_score(testy_transformed, yhat, pos_label=-1)\n",
        "print('F-measure: %.3f' % score)\n"
      ],
      "execution_count": 23,
      "outputs": [
        {
          "output_type": "stream",
          "name": "stdout",
          "text": [
            "F-measure: 0.013\n"
          ]
        }
      ]
    },
    {
      "metadata": {
        "id": "joLyXtt_ypn4"
      },
      "cell_type": "markdown",
      "source": [
        "the contamination is quite low and may result in many runs with an F-measure of 0.0. To improve the stability of the method on this dataset, try increasing the contamination to 0.05 or even 0.1 and re-run the example."
      ]
    },
    {
      "metadata": {
        "trusted": true,
        "id": "8U0cxJhvypn8",
        "outputId": "52b4f569-1023-47af-fe6c-01b93e06e7d7",
        "colab": {
          "base_uri": "https://localhost:8080/"
        }
      },
      "cell_type": "code",
      "source": [
        "from sklearn.ensemble import IsolationForest\n",
        "from sklearn.metrics import f1_score\n",
        "import numpy as np\n",
        "\n",
        "min_len = min(len(trainX), len(trainy))\n",
        "trainX = trainX[:min_len]\n",
        "trainy = trainy[:min_len]\n",
        "\n",
        "mask = trainy == 0\n",
        "trainX_clean = trainX[mask]\n",
        "\n",
        "model = IsolationForest(contamination=0.1, random_state=42)\n",
        "model.fit(trainX_clean)\n",
        "\n",
        "yhat = model.predict(testX)\n",
        "\n",
        "testy_transformed = np.copy(testy)\n",
        "testy_transformed[testy == 1] = -1\n",
        "testy_transformed[testy == 0] = 1\n",
        "\n",
        "score = f1_score(testy_transformed, yhat, pos_label=-1)\n",
        "print('F-measure: %.3f' % score)\n",
        "\n"
      ],
      "execution_count": 27,
      "outputs": [
        {
          "output_type": "stream",
          "name": "stdout",
          "text": [
            "F-measure: 0.181\n"
          ]
        }
      ]
    },
    {
      "metadata": {
        "id": "ZbqAAVmxypn8"
      },
      "cell_type": "markdown",
      "source": [
        "<h3>4.3. Minimum Covariance Determinant</h3>\n",
        "\n",
        "\n",
        "If the input variables have a Gaussian distribution, then simple statistical methods can be used to detect outliers. For example, if the dataset has two input variables and both are Gaussian, then the feature space forms a multi-dimensional Gaussian and knowledge of this distribution can be used to identify values far from the distribution."
      ]
    },
    {
      "metadata": {
        "_kg_hide-input": true,
        "trusted": true,
        "id": "2vbGxg04ypn9",
        "outputId": "66314534-bb9d-41f5-cbba-c1cf1b31a0d6",
        "colab": {
          "base_uri": "https://localhost:8080/"
        }
      },
      "cell_type": "code",
      "source": [
        "from sklearn.covariance import EllipticEnvelope\n",
        "from sklearn.metrics import f1_score\n",
        "import numpy as np\n",
        "\n",
        "# Усунення невідповідності розмірів\n",
        "min_len = min(len(trainX), len(trainy))\n",
        "trainX = trainX[:min_len]\n",
        "trainy = trainy[:min_len]\n",
        "\n",
        "# Вибір тільки majority класу (0) для навчання\n",
        "trainX_clean = trainX[trainy == 0]\n",
        "\n",
        "# Створення моделі\n",
        "model = EllipticEnvelope(contamination=0.1, random_state=42)\n",
        "model.fit(trainX_clean)\n",
        "\n",
        "# Прогнозування\n",
        "yhat = model.predict(testX)\n",
        "\n",
        "# Перетворення міток: 1 → -1 (аномалії), 0 → 1 (нормальні)\n",
        "testy_transformed = np.copy(testy)\n",
        "testy_transformed[testy == 1] = -1\n",
        "testy_transformed[testy == 0] = 1\n",
        "\n",
        "# Обчислення F1-метрики для аномалій\n",
        "score = f1_score(testy_transformed, yhat, pos_label=-1)\n",
        "print('F-measure: %.3f' % score)\n"
      ],
      "execution_count": 28,
      "outputs": [
        {
          "output_type": "stream",
          "name": "stdout",
          "text": [
            "F-measure: 0.179\n"
          ]
        }
      ]
    }
  ],
  "metadata": {
    "kernelspec": {
      "language": "python",
      "display_name": "Python 3",
      "name": "python3"
    },
    "language_info": {
      "pygments_lexer": "ipython3",
      "nbconvert_exporter": "python",
      "version": "3.6.4",
      "file_extension": ".py",
      "codemirror_mode": {
        "name": "ipython",
        "version": 3
      },
      "name": "python",
      "mimetype": "text/x-python"
    },
    "colab": {
      "name": "Imbalanced Classification: Advance Algorithms",
      "provenance": [],
      "include_colab_link": true
    },
    "widgets": {
      "application/vnd.jupyter.widget-state+json": {
        "12165f08eae247a2b9a95ec1c885c6ed": {
          "model_module": "@jupyter-widgets/controls",
          "model_name": "HBoxModel",
          "model_module_version": "1.5.0",
          "state": {
            "_dom_classes": [],
            "_model_module": "@jupyter-widgets/controls",
            "_model_module_version": "1.5.0",
            "_model_name": "HBoxModel",
            "_view_count": null,
            "_view_module": "@jupyter-widgets/controls",
            "_view_module_version": "1.5.0",
            "_view_name": "HBoxView",
            "box_style": "",
            "children": [
              "IPY_MODEL_14f64d1fb23545a2ac33e6d920288143",
              "IPY_MODEL_a4a655df1e884c229dca88b90963655e",
              "IPY_MODEL_109209fdd4a848649934c2bf9dbcd2d4"
            ],
            "layout": "IPY_MODEL_ed133dd3a55f431a87092a347195e859"
          }
        },
        "14f64d1fb23545a2ac33e6d920288143": {
          "model_module": "@jupyter-widgets/controls",
          "model_name": "HTMLModel",
          "model_module_version": "1.5.0",
          "state": {
            "_dom_classes": [],
            "_model_module": "@jupyter-widgets/controls",
            "_model_module_version": "1.5.0",
            "_model_name": "HTMLModel",
            "_view_count": null,
            "_view_module": "@jupyter-widgets/controls",
            "_view_module_version": "1.5.0",
            "_view_name": "HTMLView",
            "description": "",
            "description_tooltip": null,
            "layout": "IPY_MODEL_065edc3a3f3442ba8b10e884538d6679",
            "placeholder": "​",
            "style": "IPY_MODEL_c90d0aca6a9d4d118293b7eb449cc244",
            "value": ""
          }
        },
        "a4a655df1e884c229dca88b90963655e": {
          "model_module": "@jupyter-widgets/controls",
          "model_name": "FloatProgressModel",
          "model_module_version": "1.5.0",
          "state": {
            "_dom_classes": [],
            "_model_module": "@jupyter-widgets/controls",
            "_model_module_version": "1.5.0",
            "_model_name": "FloatProgressModel",
            "_view_count": null,
            "_view_module": "@jupyter-widgets/controls",
            "_view_module_version": "1.5.0",
            "_view_name": "ProgressView",
            "bar_style": "success",
            "description": "",
            "description_tooltip": null,
            "layout": "IPY_MODEL_e23933621320404ebf2f5a46885fe376",
            "max": 1,
            "min": 0,
            "orientation": "horizontal",
            "style": "IPY_MODEL_d7379f9aa77046ccaa6652952ca228b2",
            "value": 0
          }
        },
        "109209fdd4a848649934c2bf9dbcd2d4": {
          "model_module": "@jupyter-widgets/controls",
          "model_name": "HTMLModel",
          "model_module_version": "1.5.0",
          "state": {
            "_dom_classes": [],
            "_model_module": "@jupyter-widgets/controls",
            "_model_module_version": "1.5.0",
            "_model_name": "HTMLModel",
            "_view_count": null,
            "_view_module": "@jupyter-widgets/controls",
            "_view_module_version": "1.5.0",
            "_view_name": "HTMLView",
            "description": "",
            "description_tooltip": null,
            "layout": "IPY_MODEL_a2a19305527d4578b3805d503bcedf54",
            "placeholder": "​",
            "style": "IPY_MODEL_7e7e29b724ab4f0c92895d79ed6e1489",
            "value": " 0/? [00:06&lt;?, ?it/s]"
          }
        },
        "ed133dd3a55f431a87092a347195e859": {
          "model_module": "@jupyter-widgets/base",
          "model_name": "LayoutModel",
          "model_module_version": "1.2.0",
          "state": {
            "_model_module": "@jupyter-widgets/base",
            "_model_module_version": "1.2.0",
            "_model_name": "LayoutModel",
            "_view_count": null,
            "_view_module": "@jupyter-widgets/base",
            "_view_module_version": "1.2.0",
            "_view_name": "LayoutView",
            "align_content": null,
            "align_items": null,
            "align_self": null,
            "border": null,
            "bottom": null,
            "display": null,
            "flex": null,
            "flex_flow": null,
            "grid_area": null,
            "grid_auto_columns": null,
            "grid_auto_flow": null,
            "grid_auto_rows": null,
            "grid_column": null,
            "grid_gap": null,
            "grid_row": null,
            "grid_template_areas": null,
            "grid_template_columns": null,
            "grid_template_rows": null,
            "height": null,
            "justify_content": null,
            "justify_items": null,
            "left": null,
            "margin": null,
            "max_height": null,
            "max_width": null,
            "min_height": null,
            "min_width": null,
            "object_fit": null,
            "object_position": null,
            "order": null,
            "overflow": null,
            "overflow_x": null,
            "overflow_y": null,
            "padding": null,
            "right": null,
            "top": null,
            "visibility": null,
            "width": null
          }
        },
        "065edc3a3f3442ba8b10e884538d6679": {
          "model_module": "@jupyter-widgets/base",
          "model_name": "LayoutModel",
          "model_module_version": "1.2.0",
          "state": {
            "_model_module": "@jupyter-widgets/base",
            "_model_module_version": "1.2.0",
            "_model_name": "LayoutModel",
            "_view_count": null,
            "_view_module": "@jupyter-widgets/base",
            "_view_module_version": "1.2.0",
            "_view_name": "LayoutView",
            "align_content": null,
            "align_items": null,
            "align_self": null,
            "border": null,
            "bottom": null,
            "display": null,
            "flex": null,
            "flex_flow": null,
            "grid_area": null,
            "grid_auto_columns": null,
            "grid_auto_flow": null,
            "grid_auto_rows": null,
            "grid_column": null,
            "grid_gap": null,
            "grid_row": null,
            "grid_template_areas": null,
            "grid_template_columns": null,
            "grid_template_rows": null,
            "height": null,
            "justify_content": null,
            "justify_items": null,
            "left": null,
            "margin": null,
            "max_height": null,
            "max_width": null,
            "min_height": null,
            "min_width": null,
            "object_fit": null,
            "object_position": null,
            "order": null,
            "overflow": null,
            "overflow_x": null,
            "overflow_y": null,
            "padding": null,
            "right": null,
            "top": null,
            "visibility": null,
            "width": null
          }
        },
        "c90d0aca6a9d4d118293b7eb449cc244": {
          "model_module": "@jupyter-widgets/controls",
          "model_name": "DescriptionStyleModel",
          "model_module_version": "1.5.0",
          "state": {
            "_model_module": "@jupyter-widgets/controls",
            "_model_module_version": "1.5.0",
            "_model_name": "DescriptionStyleModel",
            "_view_count": null,
            "_view_module": "@jupyter-widgets/base",
            "_view_module_version": "1.2.0",
            "_view_name": "StyleView",
            "description_width": ""
          }
        },
        "e23933621320404ebf2f5a46885fe376": {
          "model_module": "@jupyter-widgets/base",
          "model_name": "LayoutModel",
          "model_module_version": "1.2.0",
          "state": {
            "_model_module": "@jupyter-widgets/base",
            "_model_module_version": "1.2.0",
            "_model_name": "LayoutModel",
            "_view_count": null,
            "_view_module": "@jupyter-widgets/base",
            "_view_module_version": "1.2.0",
            "_view_name": "LayoutView",
            "align_content": null,
            "align_items": null,
            "align_self": null,
            "border": null,
            "bottom": null,
            "display": null,
            "flex": null,
            "flex_flow": null,
            "grid_area": null,
            "grid_auto_columns": null,
            "grid_auto_flow": null,
            "grid_auto_rows": null,
            "grid_column": null,
            "grid_gap": null,
            "grid_row": null,
            "grid_template_areas": null,
            "grid_template_columns": null,
            "grid_template_rows": null,
            "height": null,
            "justify_content": null,
            "justify_items": null,
            "left": null,
            "margin": null,
            "max_height": null,
            "max_width": null,
            "min_height": null,
            "min_width": null,
            "object_fit": null,
            "object_position": null,
            "order": null,
            "overflow": null,
            "overflow_x": null,
            "overflow_y": null,
            "padding": null,
            "right": null,
            "top": null,
            "visibility": null,
            "width": "20px"
          }
        },
        "d7379f9aa77046ccaa6652952ca228b2": {
          "model_module": "@jupyter-widgets/controls",
          "model_name": "ProgressStyleModel",
          "model_module_version": "1.5.0",
          "state": {
            "_model_module": "@jupyter-widgets/controls",
            "_model_module_version": "1.5.0",
            "_model_name": "ProgressStyleModel",
            "_view_count": null,
            "_view_module": "@jupyter-widgets/base",
            "_view_module_version": "1.2.0",
            "_view_name": "StyleView",
            "bar_color": null,
            "description_width": ""
          }
        },
        "a2a19305527d4578b3805d503bcedf54": {
          "model_module": "@jupyter-widgets/base",
          "model_name": "LayoutModel",
          "model_module_version": "1.2.0",
          "state": {
            "_model_module": "@jupyter-widgets/base",
            "_model_module_version": "1.2.0",
            "_model_name": "LayoutModel",
            "_view_count": null,
            "_view_module": "@jupyter-widgets/base",
            "_view_module_version": "1.2.0",
            "_view_name": "LayoutView",
            "align_content": null,
            "align_items": null,
            "align_self": null,
            "border": null,
            "bottom": null,
            "display": null,
            "flex": null,
            "flex_flow": null,
            "grid_area": null,
            "grid_auto_columns": null,
            "grid_auto_flow": null,
            "grid_auto_rows": null,
            "grid_column": null,
            "grid_gap": null,
            "grid_row": null,
            "grid_template_areas": null,
            "grid_template_columns": null,
            "grid_template_rows": null,
            "height": null,
            "justify_content": null,
            "justify_items": null,
            "left": null,
            "margin": null,
            "max_height": null,
            "max_width": null,
            "min_height": null,
            "min_width": null,
            "object_fit": null,
            "object_position": null,
            "order": null,
            "overflow": null,
            "overflow_x": null,
            "overflow_y": null,
            "padding": null,
            "right": null,
            "top": null,
            "visibility": null,
            "width": null
          }
        },
        "7e7e29b724ab4f0c92895d79ed6e1489": {
          "model_module": "@jupyter-widgets/controls",
          "model_name": "DescriptionStyleModel",
          "model_module_version": "1.5.0",
          "state": {
            "_model_module": "@jupyter-widgets/controls",
            "_model_module_version": "1.5.0",
            "_model_name": "DescriptionStyleModel",
            "_view_count": null,
            "_view_module": "@jupyter-widgets/base",
            "_view_module_version": "1.2.0",
            "_view_name": "StyleView",
            "description_width": ""
          }
        }
      }
    }
  },
  "nbformat": 4,
  "nbformat_minor": 0
}